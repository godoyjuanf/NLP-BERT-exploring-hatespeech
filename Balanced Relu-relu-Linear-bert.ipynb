{
 "cells": [
  {
   "cell_type": "code",
   "execution_count": null,
   "metadata": {
    "id": "2Fn0SDhRS8K6"
   },
   "outputs": [],
   "source": [
    "%%capture\n",
    "!pip install transformers\n",
    "!pip install datasets"
   ]
  },
  {
   "cell_type": "markdown",
   "metadata": {
    "id": "YpB1zIptIVtZ"
   },
   "source": [
    "## Libraries Import"
   ]
  },
  {
   "cell_type": "code",
   "execution_count": null,
   "metadata": {
    "id": "C_qd6IPFS94E"
   },
   "outputs": [],
   "source": [
    "import pandas as pd\n",
    "import torch\n",
    "import numpy as np\n",
    "from transformers import BertTokenizer, BertModel\n",
    "from torch import nn\n",
    "from torch.optim import Adam\n",
    "from tqdm import tqdm\n",
    "from imblearn import under_sampling\n",
    "from datasets import load_dataset\n",
    "from transformers import AutoTokenizer\n",
    "import matplotlib.pyplot as plt\n",
    "%matplotlib inline"
   ]
  },
  {
   "cell_type": "markdown",
   "metadata": {
    "id": "ak2GTkHzIXh1"
   },
   "source": [
    "## Load \"tweets_hate_speech_detection\" Dataset from Hugging Face "
   ]
  },
  {
   "cell_type": "code",
   "execution_count": null,
   "metadata": {
    "colab": {
     "base_uri": "https://localhost:8080/",
     "height": 104,
     "referenced_widgets": [
      "b67403c863684555967f9123a1dedcc4",
      "04c5722a8ebb4151b3364e3312a5e90e",
      "d73f965991e1425196a266effc71f97c",
      "4a73c7a86a45470e983b42703470ce63",
      "23bf42961d5d4372b509b1669c571dc5",
      "1e789b6f9bb445008bfc8819b0fdf6b6",
      "d5620591a47741669b326cdb1a65670e",
      "c648542111824e8b9f778dcb1c34f1e9",
      "d1992f58f2264b76b718860edd15c825",
      "e21eb19c408344a898d8800743fccab4",
      "9a5e7b87e96c4c419d7b9f35d6904418"
     ]
    },
    "executionInfo": {
     "elapsed": 328,
     "status": "ok",
     "timestamp": 1648393690311,
     "user": {
      "displayName": "Agustin Ferreira",
      "photoUrl": "https://lh3.googleusercontent.com/a-/AOh14GgRlNEZBvEY70eh3aDfRtRNHaLhKZV2WQQ7-J_q5A=s64",
      "userId": "18076421975162995786"
     },
     "user_tz": -120
    },
    "id": "iQuiMZ73dJ7R",
    "outputId": "3348f3f6-a843-49c5-cec4-d12fc38e6883"
   },
   "outputs": [
    {
     "name": "stderr",
     "output_type": "stream",
     "text": [
      "Using custom data configuration default\n",
      "Reusing dataset tweets_hate_speech_detection (/root/.cache/huggingface/datasets/tweets_hate_speech_detection/default/0.0.0/c6b6f41e91ac9113e1c032c5ecf7a49b4e1e9dc8699ded3c2d8425c9217568b2)\n"
     ]
    },
    {
     "data": {
      "application/vnd.jupyter.widget-view+json": {
       "model_id": "b67403c863684555967f9123a1dedcc4",
       "version_major": 2,
       "version_minor": 0
      },
      "text/plain": [
       "  0%|          | 0/1 [00:00<?, ?it/s]"
      ]
     },
     "metadata": {},
     "output_type": "display_data"
    }
   ],
   "source": [
    "dataset = load_dataset(\"tweets_hate_speech_detection\")"
   ]
  },
  {
   "cell_type": "code",
   "execution_count": null,
   "metadata": {
    "colab": {
     "base_uri": "https://localhost:8080/"
    },
    "executionInfo": {
     "elapsed": 8,
     "status": "ok",
     "timestamp": 1648393690313,
     "user": {
      "displayName": "Agustin Ferreira",
      "photoUrl": "https://lh3.googleusercontent.com/a-/AOh14GgRlNEZBvEY70eh3aDfRtRNHaLhKZV2WQQ7-J_q5A=s64",
      "userId": "18076421975162995786"
     },
     "user_tz": -120
    },
    "id": "ObX6h54hdS1_",
    "outputId": "24607403-16e5-4e20-acad-ecd228cc8b37"
   },
   "outputs": [
    {
     "data": {
      "text/plain": [
       "Dataset({\n",
       "    features: ['label', 'tweet'],\n",
       "    num_rows: 31962\n",
       "})"
      ]
     },
     "execution_count": 31,
     "metadata": {},
     "output_type": "execute_result"
    }
   ],
   "source": [
    "dataset['train']"
   ]
  },
  {
   "cell_type": "code",
   "execution_count": null,
   "metadata": {
    "id": "R1PmT5rHS-Z7"
   },
   "outputs": [],
   "source": [
    "df_1 = pd.DataFrame(columns = ['class','tweet'])\n",
    "df_1['tweet'] = dataset['train']['tweet']\n",
    "df_1['class'] = dataset['train']['label']"
   ]
  },
  {
   "cell_type": "markdown",
   "metadata": {
    "id": "VDywSR0fIf3v"
   },
   "source": [
    "## Original class imbalance"
   ]
  },
  {
   "cell_type": "code",
   "execution_count": null,
   "metadata": {
    "colab": {
     "base_uri": "https://localhost:8080/",
     "height": 294
    },
    "executionInfo": {
     "elapsed": 228,
     "status": "ok",
     "timestamp": 1648393690728,
     "user": {
      "displayName": "Agustin Ferreira",
      "photoUrl": "https://lh3.googleusercontent.com/a-/AOh14GgRlNEZBvEY70eh3aDfRtRNHaLhKZV2WQQ7-J_q5A=s64",
      "userId": "18076421975162995786"
     },
     "user_tz": -120
    },
    "id": "P3FLt4VRT2E6",
    "outputId": "871dd513-8df5-40e6-82b1-581a67a59473"
   },
   "outputs": [
    {
     "data": {
      "text/plain": [
       "<matplotlib.axes._subplots.AxesSubplot at 0x7f6cbbde1650>"
      ]
     },
     "execution_count": 33,
     "metadata": {},
     "output_type": "execute_result"
    },
    {
     "data": {
      "image/png": "[encoded data removed]",
      "text/plain": [
       "<Figure size 432x288 with 1 Axes>"
      ]
     },
     "metadata": {
      "needs_background": "light"
     },
     "output_type": "display_data"
    }
   ],
   "source": [
    "df_1.groupby(['class']).size().plot.bar()"
   ]
  },
  {
   "cell_type": "markdown",
   "metadata": {
    "id": "OHpXr6oEIiij"
   },
   "source": [
    "## Perform Data re-sampling"
   ]
  },
  {
   "cell_type": "code",
   "execution_count": null,
   "metadata": {
    "id": "E65o9hIE67dj"
   },
   "outputs": [],
   "source": [
    "undersampler = under_sampling.RandomUnderSampler(sampling_strategy = 'all', random_state = 42)\n",
    "tweets, classes = undersampler.fit_resample(np.array(df_1['tweet']).reshape(-1,1), df_1['class'])\n",
    "tweets, classes = undersampler.fit_resample(tweets, classes)"
   ]
  },
  {
   "cell_type": "code",
   "execution_count": null,
   "metadata": {
    "id": "tqv-9L7wzkYr"
   },
   "outputs": [],
   "source": [
    "df = pd.DataFrame(columns = ['tweet','class'])\n",
    "df['tweet'] = pd.DataFrame(tweets)\n",
    "df['class'] = pd.DataFrame(classes)"
   ]
  },
  {
   "cell_type": "markdown",
   "metadata": {
    "id": "usbC32ZqIlY4"
   },
   "source": [
    "## Class distribuition after re-balancing"
   ]
  },
  {
   "cell_type": "code",
   "execution_count": null,
   "metadata": {
    "colab": {
     "base_uri": "https://localhost:8080/",
     "height": 294
    },
    "executionInfo": {
     "elapsed": 411,
     "status": "ok",
     "timestamp": 1648393691410,
     "user": {
      "displayName": "Agustin Ferreira",
      "photoUrl": "https://lh3.googleusercontent.com/a-/AOh14GgRlNEZBvEY70eh3aDfRtRNHaLhKZV2WQQ7-J_q5A=s64",
      "userId": "18076421975162995786"
     },
     "user_tz": -120
    },
    "id": "n07nc0Kf7WBY",
    "outputId": "91c37b74-e4c3-4306-d5f9-a36f3153961f"
   },
   "outputs": [
    {
     "data": {
      "text/plain": [
       "<matplotlib.axes._subplots.AxesSubplot at 0x7f6cc06f6190>"
      ]
     },
     "execution_count": 36,
     "metadata": {},
     "output_type": "execute_result"
    },
    {
     "data": {
      "image/png": "[encoded data removed]",
      "text/plain": [
       "<Figure size 432x288 with 1 Axes>"
      ]
     },
     "metadata": {
      "needs_background": "light"
     },
     "output_type": "display_data"
    }
   ],
   "source": [
    "df.groupby(['class']).size().plot.bar()"
   ]
  },
  {
   "cell_type": "markdown",
   "metadata": {
    "id": "SCwSIracIpt1"
   },
   "source": [
    "## Class for importing and tokenizing the dataset"
   ]
  },
  {
   "cell_type": "code",
   "execution_count": null,
   "metadata": {
    "id": "MbiIjjvxUQ9Y"
   },
   "outputs": [],
   "source": [
    "#tokenizer = AutoTokenizer.from_pretrained('distilbert-base-uncased')\n",
    "tokenizer = BertTokenizer.from_pretrained('bert-base-uncased')\n",
    "labels = {0:0,\n",
    "          1:1}\n",
    "\n",
    "class Dataset(torch.utils.data.Dataset):\n",
    "\n",
    "    def __init__(self, df):\n",
    "\n",
    "        self.labels = [labels[label] for label in df['class']]\n",
    "        self.texts = [tokenizer(text, \n",
    "                               padding='max_length', max_length = 50, truncation=True,\n",
    "                                return_tensors=\"pt\") for text in df['tweet']]\n",
    "    def classes(self):\n",
    "        return self.labels\n",
    "\n",
    "    def __len__(self):\n",
    "        return len(self.labels)\n",
    "\n",
    "    def get_batch_labels(self, idx):\n",
    "        # Fetch a batch of labels\n",
    "        return np.array(self.labels[idx])\n",
    "\n",
    "    def get_batch_texts(self, idx):\n",
    "        # Fetch a batch of inputs\n",
    "        return self.texts[idx]\n",
    "\n",
    "    def __getitem__(self, idx):\n",
    "\n",
    "        batch_texts = self.get_batch_texts(idx)\n",
    "        batch_y = self.get_batch_labels(idx)\n",
    "\n",
    "        return batch_texts, batch_y"
   ]
  },
  {
   "cell_type": "markdown",
   "metadata": {
    "id": "4vOPo4C2Itfq"
   },
   "source": [
    "## Class for defining the Bert model and classifier architecture\n",
    "In this case, the architecture is conformed by two RELU layers, one Linear layer and lately, one Softmax function."
   ]
  },
  {
   "cell_type": "code",
   "execution_count": null,
   "metadata": {
    "id": "aXoEKfSQUVLy"
   },
   "outputs": [],
   "source": [
    "class BertClassifier(nn.Module):\n",
    "\n",
    "    def __init__(self, dropout=0.5):\n",
    "\n",
    "        super(BertClassifier, self).__init__()\n",
    "\n",
    "        self.bert = BertModel.from_pretrained('bert-base-uncased')\n",
    "        self.dropout = nn.Dropout(dropout)\n",
    "        self.linear = nn.Linear(768, 2)\n",
    "        self.relu = nn.ReLU()\n",
    "        self.softmax = nn.Softmax(dim=1)\n",
    "\n",
    "    def forward(self, input_id, mask):\n",
    "\n",
    "        _, pooled_output = self.bert(input_ids= input_id, attention_mask=mask,return_dict=False)\n",
    "        #dropout_output = self.dropout(pooled_output)\n",
    "        #linear_output = self.linear(dropout_output)\n",
    "        relu_1=self.relu(pooled_output)\n",
    "        relu_2=self.relu(relu_1)\n",
    "        final_layer1 = self.linear(relu_2)\n",
    "        final_layer = self.softmax(final_layer1)\n",
    "\n",
    "\n",
    "        return final_layer"
   ]
  },
  {
   "cell_type": "markdown",
   "metadata": {
    "id": "EuHwcq1bI-v_"
   },
   "source": [
    "## Define the trainning function"
   ]
  },
  {
   "cell_type": "code",
   "execution_count": null,
   "metadata": {
    "id": "yrZOwILxUXzR"
   },
   "outputs": [],
   "source": [
    "def train(model, train_data, val_data, learning_rate, epochs,batch):\n",
    "\n",
    "    train, val = Dataset(train_data), Dataset(val_data)\n",
    "\n",
    "    train_dataloader = torch.utils.data.DataLoader(train, batch_size=batch, shuffle=True)\n",
    "    val_dataloader = torch.utils.data.DataLoader(val, batch_size=batch)\n",
    "\n",
    "    use_cuda = torch.cuda.is_available()\n",
    "    device = torch.device(\"cuda\" if use_cuda else \"cpu\")\n",
    "\n",
    "    criterion = nn.CrossEntropyLoss()\n",
    "    #criterion = nn.BCELoss()\n",
    "    optimizer = Adam(model.parameters(), lr= learning_rate)\n",
    "\n",
    "    if use_cuda:\n",
    "\n",
    "            model = model.cuda()\n",
    "            criterion = criterion.cuda()\n",
    "\n",
    "    for epoch_num in range(epochs):\n",
    "\n",
    "            total_acc_train = 0\n",
    "            total_loss_train = 0\n",
    "\n",
    "            for train_input, train_label in tqdm(train_dataloader):\n",
    "\n",
    "                train_label = train_label.to(device)\n",
    "                mask = train_input['attention_mask'].to(device)\n",
    "                input_id = train_input['input_ids'].squeeze(1).to(device)\n",
    "\n",
    "                output = model(input_id, mask)\n",
    "                \n",
    "                batch_loss = criterion(output, train_label)\n",
    "                total_loss_train += batch_loss.item()\n",
    "                \n",
    "                acc = (output.argmax(dim=1) == train_label).sum().item()\n",
    "                total_acc_train += acc\n",
    "\n",
    "                model.zero_grad()\n",
    "                batch_loss.backward()\n",
    "                optimizer.step()\n",
    "            \n",
    "            total_acc_val = 0\n",
    "            total_loss_val = 0\n",
    "\n",
    "            with torch.no_grad():\n",
    "\n",
    "                for val_input, val_label in val_dataloader:\n",
    "\n",
    "                    val_label = val_label.to(device)\n",
    "                    mask = val_input['attention_mask'].to(device)\n",
    "                    input_id = val_input['input_ids'].squeeze(1).to(device)\n",
    "\n",
    "                    output = model(input_id, mask)\n",
    "\n",
    "                    batch_loss = criterion(output, val_label)\n",
    "                    total_loss_val += batch_loss.item()\n",
    "                    \n",
    "                    acc = (output.argmax(dim=1) == val_label).sum().item()\n",
    "                    total_acc_val += acc\n",
    "            print(f'Epochs: {epoch_num + 1} | Train Loss: {total_loss_train / len(train_data): .3f} | Train Accuracy: {total_acc_train / len(train_data): .3f} | Val Loss: {total_loss_val / len(val_data): .3f} | Val Accuracy: {total_acc_val / len(val_data): .3f}')"
   ]
  },
  {
   "cell_type": "markdown",
   "metadata": {
    "id": "0izvAXs-JCKK"
   },
   "source": [
    "## Define the out-of-sample evaluation function (Accuracy and ROC curve)"
   ]
  },
  {
   "cell_type": "code",
   "execution_count": null,
   "metadata": {
    "id": "voHHyUNPUxiF"
   },
   "outputs": [],
   "source": [
    "def evaluate(model, test_data):\n",
    "\n",
    "    test = Dataset(test_data)\n",
    "\n",
    "    test_dataloader = torch.utils.data.DataLoader(test, batch_size=2)\n",
    "\n",
    "    use_cuda = torch.cuda.is_available()\n",
    "    device = torch.device(\"cuda\" if use_cuda else \"cpu\")\n",
    "\n",
    "    if use_cuda:\n",
    "\n",
    "        model = model.cuda()\n",
    "\n",
    "    total_acc_test = 0\n",
    "    with torch.no_grad():\n",
    "\n",
    "        for test_input, test_label in test_dataloader:\n",
    "\n",
    "              test_label = test_label.to(device)\n",
    "              mask = test_input['attention_mask'].to(device)\n",
    "              input_id = test_input['input_ids'].squeeze(1).to(device)\n",
    "\n",
    "              output = model(input_id, mask)\n",
    "              acc = (output.argmax(dim=1) == test_label).sum().item()\n",
    "              total_acc_test += acc\n",
    "    \n",
    "    return total_acc_test / len(test_data)\n",
    "\n",
    "from sklearn.metrics import accuracy_score, roc_curve, auc\n",
    "\n",
    "def evaluate_roc(model, test_data):\n",
    "    \"\"\"\n",
    "    - Print AUC and accuracy on the test set\n",
    "    - Plot ROC\n",
    "    @params    probs (np.array): an array of predicted probabilities with shape (len(y_true), 2)\n",
    "    @params    y_true (np.array): an array of the true values with shape (len(y_true),)\n",
    "    \"\"\"\n",
    "\n",
    "    test = Dataset(test_data)\n",
    "    test_dataloader = torch.utils.data.DataLoader(test, batch_size=1)\n",
    "    preds = []\n",
    "    y_true = []\n",
    "\n",
    "    use_cuda = torch.cuda.is_available()\n",
    "    device = torch.device(\"cuda\" if use_cuda else \"cpu\")\n",
    "\n",
    "    if use_cuda:\n",
    "\n",
    "        model = model.cuda()\n",
    "\n",
    "    total_acc_test = 0\n",
    "    with torch.no_grad():\n",
    "    \n",
    "        for test_input, test_label in test_dataloader:\n",
    "              \n",
    "              test_label = test_label.to(device)\n",
    "              mask = test_input['attention_mask'].to(device)\n",
    "              input_id = test_input['input_ids'].squeeze(1).to(device)\n",
    "              y_true.append(test_label.cpu().numpy())\n",
    "              preds.append(model(input_id, mask).cpu().detach().numpy()[0][1])\n",
    "              #print(y_true,preds)\n",
    "      \n",
    "    preds = np.array(preds).astype(float)\n",
    "    y_true = np.array(y_true).astype(float)\n",
    "    #print(preds,y_true)\n",
    "    fpr, tpr, threshold = roc_curve(y_true, preds)\n",
    "    roc_auc = auc(fpr, tpr)\n",
    "    print(f'AUC: {roc_auc:.4f}')\n",
    "\n",
    "    # Get accuracy over the test set\n",
    "    y_pred = np.where(preds >= 0.5, 1, 0)\n",
    "    accuracy = accuracy_score(y_true, y_pred)\n",
    "    print(f'Accuracy: {accuracy*100:.2f}%')\n",
    "\n",
    "    # Plot ROC AUC\n",
    "    plt.title('Receiver Operating Characteristic')\n",
    "    plt.plot(fpr, tpr, 'b', label = 'AUC = %0.2f' % roc_auc)\n",
    "    plt.legend(loc = 'lower right')\n",
    "    plt.plot([0, 1], [0, 1],'r--')\n",
    "    plt.xlim([0, 1])\n",
    "    plt.ylim([0, 1])\n",
    "    plt.ylabel('True Positive Rate')\n",
    "    plt.xlabel('False Positive Rate')\n",
    "    plt.show()\n",
    "\n",
    "    return roc_auc"
   ]
  },
  {
   "cell_type": "markdown",
   "metadata": {
    "id": "zhAYEsdiJKrC"
   },
   "source": [
    "## Perform data splitting into train,test and validation."
   ]
  },
  {
   "cell_type": "code",
   "execution_count": null,
   "metadata": {
    "colab": {
     "base_uri": "https://localhost:8080/"
    },
    "executionInfo": {
     "elapsed": 18,
     "status": "ok",
     "timestamp": 1648393692309,
     "user": {
      "displayName": "Agustin Ferreira",
      "photoUrl": "https://lh3.googleusercontent.com/a-/AOh14GgRlNEZBvEY70eh3aDfRtRNHaLhKZV2WQQ7-J_q5A=s64",
      "userId": "18076421975162995786"
     },
     "user_tz": -120
    },
    "id": "lFbuMFzsU4qc",
    "outputId": "b113f36e-fd1a-476b-e7d2-69fcd598e0be"
   },
   "outputs": [
    {
     "name": "stdout",
     "output_type": "stream",
     "text": [
      "3587 448 449\n"
     ]
    }
   ],
   "source": [
    "np.random.seed(112)\n",
    "#df = df.sample(n=4000)\n",
    "df_train, df_val, df_test = np.split(df.sample(frac=1, random_state=42), \n",
    "                                     [int(.8*len(df)), int(.9*len(df))])\n",
    "\n",
    "print(len(df_train),len(df_val), len(df_test))"
   ]
  },
  {
   "cell_type": "markdown",
   "metadata": {
    "id": "B3ObwaDqJOaO"
   },
   "source": [
    "## Grid Search \n",
    "Parameter optimization was performed for the specified lists of hyper-parameters. Once the model was selected, the training was commented out since it took too long to run."
   ]
  },
  {
   "cell_type": "code",
   "execution_count": null,
   "metadata": {
    "id": "apSHfOAYU7vp"
   },
   "outputs": [],
   "source": [
    "#EPOCHS = [1,2]\n",
    "#BATCHES = [16,32]\n",
    "#LR_LIST = [1e-12,1e-9]\n",
    "#results = pd.DataFrame(columns = ['Epochs','Batch_size','LR','Test_accuracy'])\n",
    "#\n",
    "#for epoch in EPOCHS:\n",
    "#  for batch in BATCHES:\n",
    "#    for lr in LR_LIST:\n",
    "#      model = BertClassifier()\n",
    "#      train(model, df_train, df_val, lr, epoch,batch)\n",
    "#      acc = evaluate_roc(model,df_test)\n",
    "#      results = results.append({'Epochs':epoch,'Batch_size':batch,'Test_accuracy': acc,'LR':lr}, ignore_index=True)"
   ]
  },
  {
   "cell_type": "markdown",
   "metadata": {
    "id": "5ljW8U-sRfaN"
   },
   "source": [
    "## Test accuracy results for non-balanced data over hyper-parameter search"
   ]
  },
  {
   "cell_type": "markdown",
   "metadata": {
    "id": "l7xzETxqsgZ3"
   },
   "source": [
    "![Screen Shot 2022-03-25 at 11.50.20.png](data:image/png;base64,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)"
   ]
  },
  {
   "cell_type": "markdown",
   "metadata": {
    "id": "0vAcmCf7JifQ"
   },
   "source": [
    "## Instanciate and train the best performing model"
   ]
  },
  {
   "cell_type": "code",
   "execution_count": null,
   "metadata": {
    "colab": {
     "base_uri": "https://localhost:8080/"
    },
    "executionInfo": {
     "elapsed": 66229,
     "status": "ok",
     "timestamp": 1648393758522,
     "user": {
      "displayName": "Agustin Ferreira",
      "photoUrl": "https://lh3.googleusercontent.com/a-/AOh14GgRlNEZBvEY70eh3aDfRtRNHaLhKZV2WQQ7-J_q5A=s64",
      "userId": "18076421975162995786"
     },
     "user_tz": -120
    },
    "id": "48gSIE1QwwPX",
    "outputId": "f6f35e25-f638-4167-d96a-689cbe2dab39"
   },
   "outputs": [
    {
     "name": "stderr",
     "output_type": "stream",
     "text": [
      "Some weights of the model checkpoint at bert-base-uncased were not used when initializing BertModel: ['cls.predictions.transform.LayerNorm.bias', 'cls.predictions.transform.LayerNorm.weight', 'cls.seq_relationship.bias', 'cls.seq_relationship.weight', 'cls.predictions.transform.dense.weight', 'cls.predictions.bias', 'cls.predictions.transform.dense.bias', 'cls.predictions.decoder.weight']\n",
      "- This IS expected if you are initializing BertModel from the checkpoint of a model trained on another task or with another architecture (e.g. initializing a BertForSequenceClassification model from a BertForPreTraining model).\n",
      "- This IS NOT expected if you are initializing BertModel from the checkpoint of a model that you expect to be exactly identical (initializing a BertForSequenceClassification model from a BertForSequenceClassification model).\n",
      "100%|██████████| 57/57 [00:53<00:00,  1.06it/s]\n"
     ]
    },
    {
     "name": "stdout",
     "output_type": "stream",
     "text": [
      "Epochs: 1 | Train Loss:  0.011 | Train Accuracy:  0.640 | Val Loss:  0.011 | Val Accuracy:  0.696\n"
     ]
    }
   ],
   "source": [
    "model = BertClassifier()\n",
    "LR = 1e-6\n",
    "train(model, df_train, df_val, LR, epochs=1,batch=64)"
   ]
  },
  {
   "cell_type": "markdown",
   "metadata": {
    "id": "jGI8iZVaJm7r"
   },
   "source": [
    "## Out-of-sample accuracy over balanced class dataset"
   ]
  },
  {
   "cell_type": "code",
   "execution_count": null,
   "metadata": {
    "colab": {
     "base_uri": "https://localhost:8080/"
    },
    "executionInfo": {
     "elapsed": 5847,
     "status": "ok",
     "timestamp": 1648393764352,
     "user": {
      "displayName": "Agustin Ferreira",
      "photoUrl": "https://lh3.googleusercontent.com/a-/AOh14GgRlNEZBvEY70eh3aDfRtRNHaLhKZV2WQQ7-J_q5A=s64",
      "userId": "18076421975162995786"
     },
     "user_tz": -120
    },
    "id": "cZwKRtgQVCgs",
    "outputId": "b1e81a34-fef3-4c95-e550-0eee63a61525"
   },
   "outputs": [
    {
     "data": {
      "text/plain": [
       "0.6414253897550112"
      ]
     },
     "execution_count": 44,
     "metadata": {},
     "output_type": "execute_result"
    }
   ],
   "source": [
    "evaluate(model, df_test)"
   ]
  },
  {
   "cell_type": "markdown",
   "metadata": {
    "id": "C2puWZqdJsMd"
   },
   "source": [
    "## ROC results over balanced class dataset"
   ]
  },
  {
   "cell_type": "code",
   "execution_count": null,
   "metadata": {
    "colab": {
     "base_uri": "https://localhost:8080/",
     "height": 348
    },
    "executionInfo": {
     "elapsed": 7730,
     "status": "ok",
     "timestamp": 1648393772067,
     "user": {
      "displayName": "Agustin Ferreira",
      "photoUrl": "https://lh3.googleusercontent.com/a-/AOh14GgRlNEZBvEY70eh3aDfRtRNHaLhKZV2WQQ7-J_q5A=s64",
      "userId": "18076421975162995786"
     },
     "user_tz": -120
    },
    "id": "JnPst2awqA6z",
    "outputId": "40cc58b8-6c80-43ce-d3ae-3dd7df2e1cbf"
   },
   "outputs": [
    {
     "name": "stdout",
     "output_type": "stream",
     "text": [
      "AUC: 0.7374\n",
      "Accuracy: 64.14%\n"
     ]
    },
    {
     "data": {
      "image/png": "[encoded data removed]",
      "text/plain": [
       "<Figure size 432x288 with 1 Axes>"
      ]
     },
     "metadata": {
      "needs_background": "light"
     },
     "output_type": "display_data"
    },
    {
     "data": {
      "text/plain": [
       "0.7374003189792663"
      ]
     },
     "execution_count": 45,
     "metadata": {},
     "output_type": "execute_result"
    }
   ],
   "source": [
    "evaluate_roc(model,df_test)"
   ]
  },
  {
   "cell_type": "markdown",
   "metadata": {
    "id": "m8NE1D1WJui0"
   },
   "source": [
    "# Conect to Google Drive to import new downladed tweets"
   ]
  },
  {
   "cell_type": "code",
   "execution_count": null,
   "metadata": {
    "colab": {
     "base_uri": "https://localhost:8080/"
    },
    "executionInfo": {
     "elapsed": 1462,
     "status": "ok",
     "timestamp": 1648393773509,
     "user": {
      "displayName": "Agustin Ferreira",
      "photoUrl": "https://lh3.googleusercontent.com/a-/AOh14GgRlNEZBvEY70eh3aDfRtRNHaLhKZV2WQQ7-J_q5A=s64",
      "userId": "18076421975162995786"
     },
     "user_tz": -120
    },
    "id": "-VPk2ysO6zYb",
    "outputId": "fb89b90d-9d78-40d9-97db-f36a75c0687d"
   },
   "outputs": [
    {
     "name": "stdout",
     "output_type": "stream",
     "text": [
      "Drive already mounted at /content/drive; to attempt to forcibly remount, call drive.mount(\"/content/drive\", force_remount=True).\n"
     ]
    }
   ],
   "source": [
    "from google.colab import drive\n",
    "drive.mount('/content/drive')"
   ]
  },
  {
   "cell_type": "markdown",
   "metadata": {
    "id": "P292O5udJ8EH"
   },
   "source": [
    "## Dataset was created by downloading tweets with the word \"Ukraine\" using the provided Tweet-download-script.ipynb file"
   ]
  },
  {
   "cell_type": "code",
   "execution_count": null,
   "metadata": {
    "id": "btafph4U63Xp"
   },
   "outputs": [],
   "source": [
    "df_ukraine = pd.read_csv('/content/drive/MyDrive/tweets_ukraine.csv')\n",
    "df_ukraine.drop(columns=['Unnamed: 0'], axis=1, inplace =True)\n",
    "df_ukraine.rename(columns={\"0\":'tweet'},inplace=True)\n",
    "df_ukraine['class'] = np.zeros(1000)"
   ]
  },
  {
   "cell_type": "markdown",
   "metadata": {
    "id": "eHXdgbVWKJhQ"
   },
   "source": [
    "## Perform predictions over new dataset"
   ]
  },
  {
   "cell_type": "code",
   "execution_count": null,
   "metadata": {
    "id": "SEFhsWaI-BuX"
   },
   "outputs": [],
   "source": [
    "data = Dataset(df_ukraine)\n",
    "data_dataloader = torch.utils.data.DataLoader(data, batch_size=1)\n",
    "use_cuda = torch.cuda.is_available()\n",
    "device = torch.device(\"cuda\" if use_cuda else \"cpu\")\n",
    "predictions = pd.DataFrame(columns=['tweet','pred-0','pred-1'])\n",
    "i=0\n",
    "for test_input, test_label in data_dataloader:\n",
    "\n",
    "      test_label = test_label.to(device)\n",
    "      mask = test_input['attention_mask'].to(device)\n",
    "      input_id = test_input['input_ids'].squeeze(1).to(device)\n",
    "\n",
    "      output = model(input_id, mask)\n",
    "      #print(output.argmax(dim=1),test_label)\n",
    "      predictions = predictions.append({'tweet':df_ukraine.iloc[i,0], 'pred-0':output.cpu().detach().numpy()[0][0],'pred-1':output.cpu().detach().numpy()[0][1]},ignore_index=True)\n",
    "      i+=1"
   ]
  },
  {
   "cell_type": "markdown",
   "metadata": {
    "id": "fzPdDLRHKN4h"
   },
   "source": [
    "## Sample of the first 10 results for predictions and tweets"
   ]
  },
  {
   "cell_type": "code",
   "execution_count": null,
   "metadata": {
    "colab": {
     "base_uri": "https://localhost:8080/",
     "height": 418
    },
    "executionInfo": {
     "elapsed": 213,
     "status": "ok",
     "timestamp": 1648394038630,
     "user": {
      "displayName": "Agustin Ferreira",
      "photoUrl": "https://lh3.googleusercontent.com/a-/AOh14GgRlNEZBvEY70eh3aDfRtRNHaLhKZV2WQQ7-J_q5A=s64",
      "userId": "18076421975162995786"
     },
     "user_tz": -120
    },
    "id": "aFwmf3WqZILM",
    "outputId": "c7557e95-8bd5-4eea-b660-451a35cd5d64"
   },
   "outputs": [
    {
     "name": "stderr",
     "output_type": "stream",
     "text": [
      "/usr/local/lib/python3.7/dist-packages/ipykernel_launcher.py:3: FutureWarning: Passing a negative integer is deprecated in version 1.0 and will not be supported in future version. Instead, use None to not limit the column width.\n",
      "  This is separate from the ipykernel package so we can avoid doing imports until\n"
     ]
    },
    {
     "data": {
      "text/html": [
       "\n",
       "  <div id=\"df-96e7b11b-8926-4791-a4cb-6c179103347b\">\n",
       "    <div class=\"colab-df-container\">\n",
       "      <div>\n",
       "<style scoped>\n",
       "    .dataframe tbody tr th:only-of-type {\n",
       "        vertical-align: middle;\n",
       "    }\n",
       "\n",
       "    .dataframe tbody tr th {\n",
       "        vertical-align: top;\n",
       "    }\n",
       "\n",
       "    .dataframe thead th {\n",
       "        text-align: right;\n",
       "    }\n",
       "</style>\n",
       "<table border=\"1\" class=\"dataframe\">\n",
       "  <thead>\n",
       "    <tr style=\"text-align: right;\">\n",
       "      <th></th>\n",
       "      <th>tweet</th>\n",
       "      <th>pred-0</th>\n",
       "      <th>pred-1</th>\n",
       "    </tr>\n",
       "  </thead>\n",
       "  <tbody>\n",
       "    <tr>\n",
       "      <th>0</th>\n",
       "      <td>RT @KyivIndependent: Ukraine's General Staff report: \\n\\n🔵 Russia transfers new troops to Belarus to replenish its assault force\\n🟡 4 Russian…</td>\n",
       "      <td>0.501387</td>\n",
       "      <td>0.498613</td>\n",
       "    </tr>\n",
       "    <tr>\n",
       "      <th>1</th>\n",
       "      <td>RT @caitoz: The US alliance is pouring billions worth of weapons into Ukraine, the CIA has been training Ukrainians to kill Russians, the U…</td>\n",
       "      <td>0.504828</td>\n",
       "      <td>0.495172</td>\n",
       "    </tr>\n",
       "    <tr>\n",
       "      <th>2</th>\n",
       "      <td>RT @spectatorindex: BREAKING: Ukraine's Defense Ministry says Russia has created a partial land corridor between Crimea and the Donetsk reg…</td>\n",
       "      <td>0.471206</td>\n",
       "      <td>0.528794</td>\n",
       "    </tr>\n",
       "    <tr>\n",
       "      <th>3</th>\n",
       "      <td>RT @ALocalAmerican: @TexitDallasCo Remember. Borders and guns are only for Ukraine.</td>\n",
       "      <td>0.492631</td>\n",
       "      <td>0.507369</td>\n",
       "    </tr>\n",
       "    <tr>\n",
       "      <th>4</th>\n",
       "      <td>RT @dkaleniuk: Brussels yesterday right near the European Commission. 902 people died officially in Ukraine because of russian aggression a…</td>\n",
       "      <td>0.491117</td>\n",
       "      <td>0.508883</td>\n",
       "    </tr>\n",
       "    <tr>\n",
       "      <th>5</th>\n",
       "      <td>RT @RNCResearch: Today Biden again said that sanctions would not “deter” Putin from invading Ukraine. \\n \\nHis administration said the EXACT…</td>\n",
       "      <td>0.496276</td>\n",
       "      <td>0.503724</td>\n",
       "    </tr>\n",
       "    <tr>\n",
       "      <th>6</th>\n",
       "      <td>RT @Lord_Arse: It has been reported that the Mariupol Computer Museum in Ukraine, a privately owned collection of over 500 items of retro c…</td>\n",
       "      <td>0.467583</td>\n",
       "      <td>0.532417</td>\n",
       "    </tr>\n",
       "    <tr>\n",
       "      <th>7</th>\n",
       "      <td>@online_ukraine Ukraine?  Your A$$🤬.  Do you Russians think everyone is stupid?  All you did was change the \"Russia… https://t.co/TDelBEkvxB</td>\n",
       "      <td>0.471399</td>\n",
       "      <td>0.528601</td>\n",
       "    </tr>\n",
       "    <tr>\n",
       "      <th>8</th>\n",
       "      <td>RT @lapatina_: In Russia, Ukrainians are \"offered\" official employment, and those who agree receive documents banning them from leaving tho…</td>\n",
       "      <td>0.477354</td>\n",
       "      <td>0.522646</td>\n",
       "    </tr>\n",
       "    <tr>\n",
       "      <th>9</th>\n",
       "      <td>RT @BeautyTies: Art lovers unite and bid for this masterpiece by @DrPamSpurr \\nThis piece is thought provoking and emotional. Funds go towar…</td>\n",
       "      <td>0.525991</td>\n",
       "      <td>0.474009</td>\n",
       "    </tr>\n",
       "  </tbody>\n",
       "</table>\n",
       "</div>\n",
       "      <button class=\"colab-df-convert\" onclick=\"convertToInteractive('df-96e7b11b-8926-4791-a4cb-6c179103347b')\"\n",
       "              title=\"Convert this dataframe to an interactive table.\"\n",
       "              style=\"display:none;\">\n",
       "        \n",
       "  <svg xmlns=\"http://www.w3.org/2000/svg\" height=\"24px\"viewBox=\"0 0 24 24\"\n",
       "       width=\"24px\">\n",
       "    <path d=\"M0 0h24v24H0V0z\" fill=\"none\"/>\n",
       "    <path d=\"M18.56 5.44l.94 2.06.94-2.06 2.06-.94-2.06-.94-.94-2.06-.94 2.06-2.06.94zm-11 1L8.5 8.5l.94-2.06 2.06-.94-2.06-.94L8.5 2.5l-.94 2.06-2.06.94zm10 10l.94 2.06.94-2.06 2.06-.94-2.06-.94-.94-2.06-.94 2.06-2.06.94z\"/><path d=\"M17.41 7.96l-1.37-1.37c-.4-.4-.92-.59-1.43-.59-.52 0-1.04.2-1.43.59L10.3 9.45l-7.72 7.72c-.78.78-.78 2.05 0 2.83L4 21.41c.39.39.9.59 1.41.59.51 0 1.02-.2 1.41-.59l7.78-7.78 2.81-2.81c.8-.78.8-2.07 0-2.86zM5.41 20L4 18.59l7.72-7.72 1.47 1.35L5.41 20z\"/>\n",
       "  </svg>\n",
       "      </button>\n",
       "      \n",
       "  <style>\n",
       "    .colab-df-container {\n",
       "      display:flex;\n",
       "      flex-wrap:wrap;\n",
       "      gap: 12px;\n",
       "    }\n",
       "\n",
       "    .colab-df-convert {\n",
       "      background-color: #E8F0FE;\n",
       "      border: none;\n",
       "      border-radius: 50%;\n",
       "      cursor: pointer;\n",
       "      display: none;\n",
       "      fill: #1967D2;\n",
       "      height: 32px;\n",
       "      padding: 0 0 0 0;\n",
       "      width: 32px;\n",
       "    }\n",
       "\n",
       "    .colab-df-convert:hover {\n",
       "      background-color: #E2EBFA;\n",
       "      box-shadow: 0px 1px 2px rgba(60, 64, 67, 0.3), 0px 1px 3px 1px rgba(60, 64, 67, 0.15);\n",
       "      fill: #174EA6;\n",
       "    }\n",
       "\n",
       "    [theme=dark] .colab-df-convert {\n",
       "      background-color: #3B4455;\n",
       "      fill: #D2E3FC;\n",
       "    }\n",
       "\n",
       "    [theme=dark] .colab-df-convert:hover {\n",
       "      background-color: #434B5C;\n",
       "      box-shadow: 0px 1px 3px 1px rgba(0, 0, 0, 0.15);\n",
       "      filter: drop-shadow(0px 1px 2px rgba(0, 0, 0, 0.3));\n",
       "      fill: #FFFFFF;\n",
       "    }\n",
       "  </style>\n",
       "\n",
       "      <script>\n",
       "        const buttonEl =\n",
       "          document.querySelector('#df-96e7b11b-8926-4791-a4cb-6c179103347b button.colab-df-convert');\n",
       "        buttonEl.style.display =\n",
       "          google.colab.kernel.accessAllowed ? 'block' : 'none';\n",
       "\n",
       "        async function convertToInteractive(key) {\n",
       "          const element = document.querySelector('#df-96e7b11b-8926-4791-a4cb-6c179103347b');\n",
       "          const dataTable =\n",
       "            await google.colab.kernel.invokeFunction('convertToInteractive',\n",
       "                                                     [key], {});\n",
       "          if (!dataTable) return;\n",
       "\n",
       "          const docLinkHtml = 'Like what you see? Visit the ' +\n",
       "            '<a target=\"_blank\" href=https://colab.research.google.com/notebooks/data_table.ipynb>data table notebook</a>'\n",
       "            + ' to learn more about interactive tables.';\n",
       "          element.innerHTML = '';\n",
       "          dataTable['output_type'] = 'display_data';\n",
       "          await google.colab.output.renderOutput(dataTable, element);\n",
       "          const docLink = document.createElement('div');\n",
       "          docLink.innerHTML = docLinkHtml;\n",
       "          element.appendChild(docLink);\n",
       "        }\n",
       "      </script>\n",
       "    </div>\n",
       "  </div>\n",
       "  "
      ],
      "text/plain": [
       "                                                                                                                                            tweet    pred-0    pred-1\n",
       "0  RT @KyivIndependent: Ukraine's General Staff report: \\n\\n🔵 Russia transfers new troops to Belarus to replenish its assault force\\n🟡 4 Russian…  0.501387  0.498613\n",
       "1  RT @caitoz: The US alliance is pouring billions worth of weapons into Ukraine, the CIA has been training Ukrainians to kill Russians, the U…    0.504828  0.495172\n",
       "2  RT @spectatorindex: BREAKING: Ukraine's Defense Ministry says Russia has created a partial land corridor between Crimea and the Donetsk reg…    0.471206  0.528794\n",
       "3  RT @ALocalAmerican: @TexitDallasCo Remember. Borders and guns are only for Ukraine.                                                             0.492631  0.507369\n",
       "4  RT @dkaleniuk: Brussels yesterday right near the European Commission. 902 people died officially in Ukraine because of russian aggression a…    0.491117  0.508883\n",
       "5  RT @RNCResearch: Today Biden again said that sanctions would not “deter” Putin from invading Ukraine. \\n \\nHis administration said the EXACT…   0.496276  0.503724\n",
       "6  RT @Lord_Arse: It has been reported that the Mariupol Computer Museum in Ukraine, a privately owned collection of over 500 items of retro c…    0.467583  0.532417\n",
       "7  @online_ukraine Ukraine?  Your A$$🤬.  Do you Russians think everyone is stupid?  All you did was change the \"Russia… https://t.co/TDelBEkvxB    0.471399  0.528601\n",
       "8  RT @lapatina_: In Russia, Ukrainians are \"offered\" official employment, and those who agree receive documents banning them from leaving tho…    0.477354  0.522646\n",
       "9  RT @BeautyTies: Art lovers unite and bid for this masterpiece by @DrPamSpurr \\nThis piece is thought provoking and emotional. Funds go towar…   0.525991  0.474009"
      ]
     },
     "execution_count": 55,
     "metadata": {},
     "output_type": "execute_result"
    }
   ],
   "source": [
    "pd.set_option('display.max_columns', None)\n",
    "pd.set_option('display.max_rows', None)\n",
    "pd.set_option('display.max_colwidth', -1)\n",
    "predictions.head(10)"
   ]
  },
  {
   "cell_type": "markdown",
   "metadata": {
    "id": "67Y0LvG1Y8Aq"
   },
   "source": [
    "## Sample results for specific tweets"
   ]
  },
  {
   "cell_type": "code",
   "execution_count": null,
   "metadata": {
    "colab": {
     "base_uri": "https://localhost:8080/"
    },
    "executionInfo": {
     "elapsed": 25,
     "status": "ok",
     "timestamp": 1648393794006,
     "user": {
      "displayName": "Agustin Ferreira",
      "photoUrl": "https://lh3.googleusercontent.com/a-/AOh14GgRlNEZBvEY70eh3aDfRtRNHaLhKZV2WQQ7-J_q5A=s64",
      "userId": "18076421975162995786"
     },
     "user_tz": -120
    },
    "id": "mzim0JDDC54A",
    "outputId": "cc45dba9-d78f-4a5f-e158-c50acdffab08"
   },
   "outputs": [
    {
     "name": "stdout",
     "output_type": "stream",
     "text": [
      "@online_ukraine Ukraine?  Your A$$🤬.  Do you Russians think everyone is stupid?  All you did was change the \"Russia… https://t.co/TDelBEkvxB Non-Hate Probability 0.4713986 Hate Probability 0.52860147\n"
     ]
    }
   ],
   "source": [
    "print(predictions.iloc[7,0],'Non-Hate Probability',\n",
    "predictions.iloc[7,1],'Hate Probability',\n",
    "predictions.iloc[7,2])"
   ]
  },
  {
   "cell_type": "code",
   "execution_count": null,
   "metadata": {
    "colab": {
     "base_uri": "https://localhost:8080/"
    },
    "executionInfo": {
     "elapsed": 11,
     "status": "ok",
     "timestamp": 1648393794007,
     "user": {
      "displayName": "Agustin Ferreira",
      "photoUrl": "https://lh3.googleusercontent.com/a-/AOh14GgRlNEZBvEY70eh3aDfRtRNHaLhKZV2WQQ7-J_q5A=s64",
      "userId": "18076421975162995786"
     },
     "user_tz": -120
    },
    "id": "wjXvmIobDtMV",
    "outputId": "abef6fa2-ec85-4a57-f574-6b1f7339d981"
   },
   "outputs": [
    {
     "name": "stdout",
     "output_type": "stream",
     "text": [
      "@roberts23215778 @SamRamani2 No, we hate what Russia does to its neighbours in Georgia and Ukraine and to its own p… https://t.co/b226pjrh4p Non-Hate Probability 0.4831444 Hate Probability 0.5168556\n"
     ]
    }
   ],
   "source": [
    "print(predictions.iloc[49,0],'Non-Hate Probability',\n",
    "predictions.iloc[49,1],'Hate Probability',\n",
    "predictions.iloc[49,2])"
   ]
  }
 ],
 "metadata": {
  "accelerator": "GPU",
  "colab": {
   "collapsed_sections": [],
   "name": "Balanced Relu-relu-Linear-bert.ipynb",
   "provenance": [
    {
     "file_id": "1FZsOQWpqY6dqjyDzM4k_xw8PJNMdPXFX",
     "timestamp": 1647597303977
    }
   ]
  },
  "kernelspec": {
   "display_name": "Python 3 (ipykernel)",
   "language": "python",
   "name": "python3"
  },
  "language_info": {
   "codemirror_mode": {
    "name": "ipython",
    "version": 3
   },
   "file_extension": ".py",
   "mimetype": "text/x-python",
   "name": "python",
   "nbconvert_exporter": "python",
   "pygments_lexer": "ipython3",
   "version": "3.9.7"
  },
  "widgets": {
   "application/vnd.jupyter.widget-state+json": {
    "04c5722a8ebb4151b3364e3312a5e90e": {
     "model_module": "@jupyter-widgets/controls",
     "model_module_version": "1.5.0",
     "model_name": "HTMLModel",
     "state": {
      "_dom_classes": [],
      "_model_module": "@jupyter-widgets/controls",
      "_model_module_version": "1.5.0",
      "_model_name": "HTMLModel",
      "_view_count": null,
      "_view_module": "@jupyter-widgets/controls",
      "_view_module_version": "1.5.0",
      "_view_name": "HTMLView",
      "description": "",
      "description_tooltip": null,
      "layout": "IPY_MODEL_1e789b6f9bb445008bfc8819b0fdf6b6",
      "placeholder": "​",
      "style": "IPY_MODEL_d5620591a47741669b326cdb1a65670e",
      "value": "100%"
     }
    },
    "1e789b6f9bb445008bfc8819b0fdf6b6": {
     "model_module": "@jupyter-widgets/base",
     "model_module_version": "1.2.0",
     "model_name": "LayoutModel",
     "state": {
      "_model_module": "@jupyter-widgets/base",
      "_model_module_version": "1.2.0",
      "_model_name": "LayoutModel",
      "_view_count": null,
      "_view_module": "@jupyter-widgets/base",
      "_view_module_version": "1.2.0",
      "_view_name": "LayoutView",
      "align_content": null,
      "align_items": null,
      "align_self": null,
      "border": null,
      "bottom": null,
      "display": null,
      "flex": null,
      "flex_flow": null,
      "grid_area": null,
      "grid_auto_columns": null,
      "grid_auto_flow": null,
      "grid_auto_rows": null,
      "grid_column": null,
      "grid_gap": null,
      "grid_row": null,
      "grid_template_areas": null,
      "grid_template_columns": null,
      "grid_template_rows": null,
      "height": null,
      "justify_content": null,
      "justify_items": null,
      "left": null,
      "margin": null,
      "max_height": null,
      "max_width": null,
      "min_height": null,
      "min_width": null,
      "object_fit": null,
      "object_position": null,
      "order": null,
      "overflow": null,
      "overflow_x": null,
      "overflow_y": null,
      "padding": null,
      "right": null,
      "top": null,
      "visibility": null,
      "width": null
     }
    },
    "23bf42961d5d4372b509b1669c571dc5": {
     "model_module": "@jupyter-widgets/base",
     "model_module_version": "1.2.0",
     "model_name": "LayoutModel",
     "state": {
      "_model_module": "@jupyter-widgets/base",
      "_model_module_version": "1.2.0",
      "_model_name": "LayoutModel",
      "_view_count": null,
      "_view_module": "@jupyter-widgets/base",
      "_view_module_version": "1.2.0",
      "_view_name": "LayoutView",
      "align_content": null,
      "align_items": null,
      "align_self": null,
      "border": null,
      "bottom": null,
      "display": null,
      "flex": null,
      "flex_flow": null,
      "grid_area": null,
      "grid_auto_columns": null,
      "grid_auto_flow": null,
      "grid_auto_rows": null,
      "grid_column": null,
      "grid_gap": null,
      "grid_row": null,
      "grid_template_areas": null,
      "grid_template_columns": null,
      "grid_template_rows": null,
      "height": null,
      "justify_content": null,
      "justify_items": null,
      "left": null,
      "margin": null,
      "max_height": null,
      "max_width": null,
      "min_height": null,
      "min_width": null,
      "object_fit": null,
      "object_position": null,
      "order": null,
      "overflow": null,
      "overflow_x": null,
      "overflow_y": null,
      "padding": null,
      "right": null,
      "top": null,
      "visibility": null,
      "width": null
     }
    },
    "4a73c7a86a45470e983b42703470ce63": {
     "model_module": "@jupyter-widgets/controls",
     "model_module_version": "1.5.0",
     "model_name": "HTMLModel",
     "state": {
      "_dom_classes": [],
      "_model_module": "@jupyter-widgets/controls",
      "_model_module_version": "1.5.0",
      "_model_name": "HTMLModel",
      "_view_count": null,
      "_view_module": "@jupyter-widgets/controls",
      "_view_module_version": "1.5.0",
      "_view_name": "HTMLView",
      "description": "",
      "description_tooltip": null,
      "layout": "IPY_MODEL_e21eb19c408344a898d8800743fccab4",
      "placeholder": "​",
      "style": "IPY_MODEL_9a5e7b87e96c4c419d7b9f35d6904418",
      "value": " 1/1 [00:00&lt;00:00, 24.00it/s]"
     }
    },
    "9a5e7b87e96c4c419d7b9f35d6904418": {
     "model_module": "@jupyter-widgets/controls",
     "model_module_version": "1.5.0",
     "model_name": "DescriptionStyleModel",
     "state": {
      "_model_module": "@jupyter-widgets/controls",
      "_model_module_version": "1.5.0",
      "_model_name": "DescriptionStyleModel",
      "_view_count": null,
      "_view_module": "@jupyter-widgets/base",
      "_view_module_version": "1.2.0",
      "_view_name": "StyleView",
      "description_width": ""
     }
    },
    "b67403c863684555967f9123a1dedcc4": {
     "model_module": "@jupyter-widgets/controls",
     "model_module_version": "1.5.0",
     "model_name": "HBoxModel",
     "state": {
      "_dom_classes": [],
      "_model_module": "@jupyter-widgets/controls",
      "_model_module_version": "1.5.0",
      "_model_name": "HBoxModel",
      "_view_count": null,
      "_view_module": "@jupyter-widgets/controls",
      "_view_module_version": "1.5.0",
      "_view_name": "HBoxView",
      "box_style": "",
      "children": [
       "IPY_MODEL_04c5722a8ebb4151b3364e3312a5e90e",
       "IPY_MODEL_d73f965991e1425196a266effc71f97c",
       "IPY_MODEL_4a73c7a86a45470e983b42703470ce63"
      ],
      "layout": "IPY_MODEL_23bf42961d5d4372b509b1669c571dc5"
     }
    },
    "c648542111824e8b9f778dcb1c34f1e9": {
     "model_module": "@jupyter-widgets/base",
     "model_module_version": "1.2.0",
     "model_name": "LayoutModel",
     "state": {
      "_model_module": "@jupyter-widgets/base",
      "_model_module_version": "1.2.0",
      "_model_name": "LayoutModel",
      "_view_count": null,
      "_view_module": "@jupyter-widgets/base",
      "_view_module_version": "1.2.0",
      "_view_name": "LayoutView",
      "align_content": null,
      "align_items": null,
      "align_self": null,
      "border": null,
      "bottom": null,
      "display": null,
      "flex": null,
      "flex_flow": null,
      "grid_area": null,
      "grid_auto_columns": null,
      "grid_auto_flow": null,
      "grid_auto_rows": null,
      "grid_column": null,
      "grid_gap": null,
      "grid_row": null,
      "grid_template_areas": null,
      "grid_template_columns": null,
      "grid_template_rows": null,
      "height": null,
      "justify_content": null,
      "justify_items": null,
      "left": null,
      "margin": null,
      "max_height": null,
      "max_width": null,
      "min_height": null,
      "min_width": null,
      "object_fit": null,
      "object_position": null,
      "order": null,
      "overflow": null,
      "overflow_x": null,
      "overflow_y": null,
      "padding": null,
      "right": null,
      "top": null,
      "visibility": null,
      "width": null
     }
    },
    "d1992f58f2264b76b718860edd15c825": {
     "model_module": "@jupyter-widgets/controls",
     "model_module_version": "1.5.0",
     "model_name": "ProgressStyleModel",
     "state": {
      "_model_module": "@jupyter-widgets/controls",
      "_model_module_version": "1.5.0",
      "_model_name": "ProgressStyleModel",
      "_view_count": null,
      "_view_module": "@jupyter-widgets/base",
      "_view_module_version": "1.2.0",
      "_view_name": "StyleView",
      "bar_color": null,
      "description_width": ""
     }
    },
    "d5620591a47741669b326cdb1a65670e": {
     "model_module": "@jupyter-widgets/controls",
     "model_module_version": "1.5.0",
     "model_name": "DescriptionStyleModel",
     "state": {
      "_model_module": "@jupyter-widgets/controls",
      "_model_module_version": "1.5.0",
      "_model_name": "DescriptionStyleModel",
      "_view_count": null,
      "_view_module": "@jupyter-widgets/base",
      "_view_module_version": "1.2.0",
      "_view_name": "StyleView",
      "description_width": ""
     }
    },
    "d73f965991e1425196a266effc71f97c": {
     "model_module": "@jupyter-widgets/controls",
     "model_module_version": "1.5.0",
     "model_name": "FloatProgressModel",
     "state": {
      "_dom_classes": [],
      "_model_module": "@jupyter-widgets/controls",
      "_model_module_version": "1.5.0",
      "_model_name": "FloatProgressModel",
      "_view_count": null,
      "_view_module": "@jupyter-widgets/controls",
      "_view_module_version": "1.5.0",
      "_view_name": "ProgressView",
      "bar_style": "success",
      "description": "",
      "description_tooltip": null,
      "layout": "IPY_MODEL_c648542111824e8b9f778dcb1c34f1e9",
      "max": 1,
      "min": 0,
      "orientation": "horizontal",
      "style": "IPY_MODEL_d1992f58f2264b76b718860edd15c825",
      "value": 1
     }
    },
    "e21eb19c408344a898d8800743fccab4": {
     "model_module": "@jupyter-widgets/base",
     "model_module_version": "1.2.0",
     "model_name": "LayoutModel",
     "state": {
      "_model_module": "@jupyter-widgets/base",
      "_model_module_version": "1.2.0",
      "_model_name": "LayoutModel",
      "_view_count": null,
      "_view_module": "@jupyter-widgets/base",
      "_view_module_version": "1.2.0",
      "_view_name": "LayoutView",
      "align_content": null,
      "align_items": null,
      "align_self": null,
      "border": null,
      "bottom": null,
      "display": null,
      "flex": null,
      "flex_flow": null,
      "grid_area": null,
      "grid_auto_columns": null,
      "grid_auto_flow": null,
      "grid_auto_rows": null,
      "grid_column": null,
      "grid_gap": null,
      "grid_row": null,
      "grid_template_areas": null,
      "grid_template_columns": null,
      "grid_template_rows": null,
      "height": null,
      "justify_content": null,
      "justify_items": null,
      "left": null,
      "margin": null,
      "max_height": null,
      "max_width": null,
      "min_height": null,
      "min_width": null,
      "object_fit": null,
      "object_position": null,
      "order": null,
      "overflow": null,
      "overflow_x": null,
      "overflow_y": null,
      "padding": null,
      "right": null,
      "top": null,
      "visibility": null,
      "width": null
     }
    }
   }
  }
 },
 "nbformat": 4,
 "nbformat_minor": 1
}
